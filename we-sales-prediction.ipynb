{
 "cells": [
  {
   "cell_type": "code",
   "execution_count": 1,
   "id": "b88613a8",
   "metadata": {
    "_cell_guid": "b1076dfc-b9ad-4769-8c92-a6c4dae69d19",
    "_uuid": "8f2839f25d086af736a60e9eeb907d3b93b6e0e5",
    "execution": {
     "iopub.execute_input": "2024-07-19T11:49:15.578816Z",
     "iopub.status.busy": "2024-07-19T11:49:15.578403Z",
     "iopub.status.idle": "2024-07-19T11:49:16.536463Z",
     "shell.execute_reply": "2024-07-19T11:49:16.535140Z"
    },
    "papermill": {
     "duration": 0.970192,
     "end_time": "2024-07-19T11:49:16.539043",
     "exception": false,
     "start_time": "2024-07-19T11:49:15.568851",
     "status": "completed"
    },
    "tags": []
   },
   "outputs": [
    {
     "name": "stdout",
     "output_type": "stream",
     "text": [
      "/kaggle/input/advertisingcsv/Advertising.csv\n"
     ]
    }
   ],
   "source": [
    "# This Python 3 environment comes with many helpful analytics libraries installed\n",
    "# It is defined by the kaggle/python Docker image: https://github.com/kaggle/docker-python\n",
    "# For example, here's several helpful packages to load\n",
    "\n",
    "import numpy as np # linear algebra\n",
    "import pandas as pd # data processing, CSV file I/O (e.g. pd.read_csv)\n",
    "\n",
    "# Input data files are available in the read-only \"../input/\" directory\n",
    "# For example, running this (by clicking run or pressing Shift+Enter) will list all files under the input directory\n",
    "\n",
    "import os\n",
    "for dirname, _, filenames in os.walk('/kaggle/input'):\n",
    "    for filename in filenames:\n",
    "        print(os.path.join(dirname, filename))\n",
    "\n",
    "# You can write up to 20GB to the current directory (/kaggle/working/) that gets preserved as output when you create a version using \"Save & Run All\" \n",
    "# You can also write temporary files to /kaggle/temp/, but they won't be saved outside of the current session"
   ]
  },
  {
   "cell_type": "code",
   "execution_count": 2,
   "id": "ada34481",
   "metadata": {
    "execution": {
     "iopub.execute_input": "2024-07-19T11:49:16.555839Z",
     "iopub.status.busy": "2024-07-19T11:49:16.555271Z",
     "iopub.status.idle": "2024-07-19T11:49:18.852729Z",
     "shell.execute_reply": "2024-07-19T11:49:18.851722Z"
    },
    "papermill": {
     "duration": 2.309078,
     "end_time": "2024-07-19T11:49:18.855576",
     "exception": false,
     "start_time": "2024-07-19T11:49:16.546498",
     "status": "completed"
    },
    "tags": []
   },
   "outputs": [],
   "source": [
    "import numpy as np\n",
    "import pandas as pd\n",
    "import seaborn as sns\n",
    "import plotly.express as px"
   ]
  },
  {
   "cell_type": "code",
   "execution_count": 3,
   "id": "06d20989",
   "metadata": {
    "execution": {
     "iopub.execute_input": "2024-07-19T11:49:18.872623Z",
     "iopub.status.busy": "2024-07-19T11:49:18.872154Z",
     "iopub.status.idle": "2024-07-19T11:49:18.892721Z",
     "shell.execute_reply": "2024-07-19T11:49:18.891396Z"
    },
    "papermill": {
     "duration": 0.032365,
     "end_time": "2024-07-19T11:49:18.895417",
     "exception": false,
     "start_time": "2024-07-19T11:49:18.863052",
     "status": "completed"
    },
    "tags": []
   },
   "outputs": [],
   "source": [
    "df=pd.read_csv('/kaggle/input/advertisingcsv/Advertising.csv')"
   ]
  },
  {
   "cell_type": "code",
   "execution_count": 4,
   "id": "5e725b48",
   "metadata": {
    "execution": {
     "iopub.execute_input": "2024-07-19T11:49:18.912321Z",
     "iopub.status.busy": "2024-07-19T11:49:18.911436Z",
     "iopub.status.idle": "2024-07-19T11:49:18.938786Z",
     "shell.execute_reply": "2024-07-19T11:49:18.937624Z"
    },
    "papermill": {
     "duration": 0.038288,
     "end_time": "2024-07-19T11:49:18.941173",
     "exception": false,
     "start_time": "2024-07-19T11:49:18.902885",
     "status": "completed"
    },
    "tags": []
   },
   "outputs": [
    {
     "data": {
      "text/html": [
       "<div>\n",
       "<style scoped>\n",
       "    .dataframe tbody tr th:only-of-type {\n",
       "        vertical-align: middle;\n",
       "    }\n",
       "\n",
       "    .dataframe tbody tr th {\n",
       "        vertical-align: top;\n",
       "    }\n",
       "\n",
       "    .dataframe thead th {\n",
       "        text-align: right;\n",
       "    }\n",
       "</style>\n",
       "<table border=\"1\" class=\"dataframe\">\n",
       "  <thead>\n",
       "    <tr style=\"text-align: right;\">\n",
       "      <th></th>\n",
       "      <th>Unnamed: 0</th>\n",
       "      <th>TV</th>\n",
       "      <th>Radio</th>\n",
       "      <th>Newspaper</th>\n",
       "      <th>Sales</th>\n",
       "    </tr>\n",
       "  </thead>\n",
       "  <tbody>\n",
       "    <tr>\n",
       "      <th>0</th>\n",
       "      <td>1</td>\n",
       "      <td>230.1</td>\n",
       "      <td>37.8</td>\n",
       "      <td>69.2</td>\n",
       "      <td>22.1</td>\n",
       "    </tr>\n",
       "    <tr>\n",
       "      <th>1</th>\n",
       "      <td>2</td>\n",
       "      <td>44.5</td>\n",
       "      <td>39.3</td>\n",
       "      <td>45.1</td>\n",
       "      <td>10.4</td>\n",
       "    </tr>\n",
       "    <tr>\n",
       "      <th>2</th>\n",
       "      <td>3</td>\n",
       "      <td>17.2</td>\n",
       "      <td>45.9</td>\n",
       "      <td>69.3</td>\n",
       "      <td>9.3</td>\n",
       "    </tr>\n",
       "    <tr>\n",
       "      <th>3</th>\n",
       "      <td>4</td>\n",
       "      <td>151.5</td>\n",
       "      <td>41.3</td>\n",
       "      <td>58.5</td>\n",
       "      <td>18.5</td>\n",
       "    </tr>\n",
       "    <tr>\n",
       "      <th>4</th>\n",
       "      <td>5</td>\n",
       "      <td>180.8</td>\n",
       "      <td>10.8</td>\n",
       "      <td>58.4</td>\n",
       "      <td>12.9</td>\n",
       "    </tr>\n",
       "  </tbody>\n",
       "</table>\n",
       "</div>"
      ],
      "text/plain": [
       "   Unnamed: 0     TV  Radio  Newspaper  Sales\n",
       "0           1  230.1   37.8       69.2   22.1\n",
       "1           2   44.5   39.3       45.1   10.4\n",
       "2           3   17.2   45.9       69.3    9.3\n",
       "3           4  151.5   41.3       58.5   18.5\n",
       "4           5  180.8   10.8       58.4   12.9"
      ]
     },
     "execution_count": 4,
     "metadata": {},
     "output_type": "execute_result"
    }
   ],
   "source": [
    "df.head()"
   ]
  },
  {
   "cell_type": "code",
   "execution_count": 5,
   "id": "28a06ca1",
   "metadata": {
    "execution": {
     "iopub.execute_input": "2024-07-19T11:49:18.958739Z",
     "iopub.status.busy": "2024-07-19T11:49:18.957908Z",
     "iopub.status.idle": "2024-07-19T11:49:18.972720Z",
     "shell.execute_reply": "2024-07-19T11:49:18.971512Z"
    },
    "papermill": {
     "duration": 0.026397,
     "end_time": "2024-07-19T11:49:18.975269",
     "exception": false,
     "start_time": "2024-07-19T11:49:18.948872",
     "status": "completed"
    },
    "tags": []
   },
   "outputs": [
    {
     "data": {
      "text/html": [
       "<div>\n",
       "<style scoped>\n",
       "    .dataframe tbody tr th:only-of-type {\n",
       "        vertical-align: middle;\n",
       "    }\n",
       "\n",
       "    .dataframe tbody tr th {\n",
       "        vertical-align: top;\n",
       "    }\n",
       "\n",
       "    .dataframe thead th {\n",
       "        text-align: right;\n",
       "    }\n",
       "</style>\n",
       "<table border=\"1\" class=\"dataframe\">\n",
       "  <thead>\n",
       "    <tr style=\"text-align: right;\">\n",
       "      <th></th>\n",
       "      <th>Unnamed: 0</th>\n",
       "      <th>TV</th>\n",
       "      <th>Radio</th>\n",
       "      <th>Newspaper</th>\n",
       "      <th>Sales</th>\n",
       "    </tr>\n",
       "  </thead>\n",
       "  <tbody>\n",
       "    <tr>\n",
       "      <th>195</th>\n",
       "      <td>196</td>\n",
       "      <td>38.2</td>\n",
       "      <td>3.7</td>\n",
       "      <td>13.8</td>\n",
       "      <td>7.6</td>\n",
       "    </tr>\n",
       "    <tr>\n",
       "      <th>196</th>\n",
       "      <td>197</td>\n",
       "      <td>94.2</td>\n",
       "      <td>4.9</td>\n",
       "      <td>8.1</td>\n",
       "      <td>9.7</td>\n",
       "    </tr>\n",
       "    <tr>\n",
       "      <th>197</th>\n",
       "      <td>198</td>\n",
       "      <td>177.0</td>\n",
       "      <td>9.3</td>\n",
       "      <td>6.4</td>\n",
       "      <td>12.8</td>\n",
       "    </tr>\n",
       "    <tr>\n",
       "      <th>198</th>\n",
       "      <td>199</td>\n",
       "      <td>283.6</td>\n",
       "      <td>42.0</td>\n",
       "      <td>66.2</td>\n",
       "      <td>25.5</td>\n",
       "    </tr>\n",
       "    <tr>\n",
       "      <th>199</th>\n",
       "      <td>200</td>\n",
       "      <td>232.1</td>\n",
       "      <td>8.6</td>\n",
       "      <td>8.7</td>\n",
       "      <td>13.4</td>\n",
       "    </tr>\n",
       "  </tbody>\n",
       "</table>\n",
       "</div>"
      ],
      "text/plain": [
       "     Unnamed: 0     TV  Radio  Newspaper  Sales\n",
       "195         196   38.2    3.7       13.8    7.6\n",
       "196         197   94.2    4.9        8.1    9.7\n",
       "197         198  177.0    9.3        6.4   12.8\n",
       "198         199  283.6   42.0       66.2   25.5\n",
       "199         200  232.1    8.6        8.7   13.4"
      ]
     },
     "execution_count": 5,
     "metadata": {},
     "output_type": "execute_result"
    }
   ],
   "source": [
    "df.tail()"
   ]
  },
  {
   "cell_type": "code",
   "execution_count": 6,
   "id": "488944d5",
   "metadata": {
    "execution": {
     "iopub.execute_input": "2024-07-19T11:49:18.993364Z",
     "iopub.status.busy": "2024-07-19T11:49:18.992373Z",
     "iopub.status.idle": "2024-07-19T11:49:18.999595Z",
     "shell.execute_reply": "2024-07-19T11:49:18.998477Z"
    },
    "papermill": {
     "duration": 0.019082,
     "end_time": "2024-07-19T11:49:19.002253",
     "exception": false,
     "start_time": "2024-07-19T11:49:18.983171",
     "status": "completed"
    },
    "tags": []
   },
   "outputs": [
    {
     "data": {
      "text/plain": [
       "(200, 5)"
      ]
     },
     "execution_count": 6,
     "metadata": {},
     "output_type": "execute_result"
    }
   ],
   "source": [
    "df.shape"
   ]
  },
  {
   "cell_type": "code",
   "execution_count": 7,
   "id": "d9eaef7f",
   "metadata": {
    "execution": {
     "iopub.execute_input": "2024-07-19T11:49:19.019970Z",
     "iopub.status.busy": "2024-07-19T11:49:19.019582Z",
     "iopub.status.idle": "2024-07-19T11:49:19.029281Z",
     "shell.execute_reply": "2024-07-19T11:49:19.028036Z"
    },
    "papermill": {
     "duration": 0.021596,
     "end_time": "2024-07-19T11:49:19.031911",
     "exception": false,
     "start_time": "2024-07-19T11:49:19.010315",
     "status": "completed"
    },
    "tags": []
   },
   "outputs": [
    {
     "data": {
      "text/plain": [
       "1000"
      ]
     },
     "execution_count": 7,
     "metadata": {},
     "output_type": "execute_result"
    }
   ],
   "source": [
    "df.size"
   ]
  },
  {
   "cell_type": "code",
   "execution_count": 8,
   "id": "8325d58f",
   "metadata": {
    "execution": {
     "iopub.execute_input": "2024-07-19T11:49:19.050018Z",
     "iopub.status.busy": "2024-07-19T11:49:19.049572Z",
     "iopub.status.idle": "2024-07-19T11:49:19.075808Z",
     "shell.execute_reply": "2024-07-19T11:49:19.074183Z"
    },
    "papermill": {
     "duration": 0.038357,
     "end_time": "2024-07-19T11:49:19.078444",
     "exception": false,
     "start_time": "2024-07-19T11:49:19.040087",
     "status": "completed"
    },
    "tags": []
   },
   "outputs": [
    {
     "name": "stdout",
     "output_type": "stream",
     "text": [
      "<class 'pandas.core.frame.DataFrame'>\n",
      "RangeIndex: 200 entries, 0 to 199\n",
      "Data columns (total 5 columns):\n",
      " #   Column      Non-Null Count  Dtype  \n",
      "---  ------      --------------  -----  \n",
      " 0   Unnamed: 0  200 non-null    int64  \n",
      " 1   TV          200 non-null    float64\n",
      " 2   Radio       200 non-null    float64\n",
      " 3   Newspaper   200 non-null    float64\n",
      " 4   Sales       200 non-null    float64\n",
      "dtypes: float64(4), int64(1)\n",
      "memory usage: 7.9 KB\n"
     ]
    }
   ],
   "source": [
    "df.info()"
   ]
  },
  {
   "cell_type": "code",
   "execution_count": 9,
   "id": "55847b0a",
   "metadata": {
    "execution": {
     "iopub.execute_input": "2024-07-19T11:49:19.096837Z",
     "iopub.status.busy": "2024-07-19T11:49:19.096404Z",
     "iopub.status.idle": "2024-07-19T11:49:19.126192Z",
     "shell.execute_reply": "2024-07-19T11:49:19.124861Z"
    },
    "papermill": {
     "duration": 0.042265,
     "end_time": "2024-07-19T11:49:19.129066",
     "exception": false,
     "start_time": "2024-07-19T11:49:19.086801",
     "status": "completed"
    },
    "tags": []
   },
   "outputs": [
    {
     "data": {
      "text/html": [
       "<div>\n",
       "<style scoped>\n",
       "    .dataframe tbody tr th:only-of-type {\n",
       "        vertical-align: middle;\n",
       "    }\n",
       "\n",
       "    .dataframe tbody tr th {\n",
       "        vertical-align: top;\n",
       "    }\n",
       "\n",
       "    .dataframe thead th {\n",
       "        text-align: right;\n",
       "    }\n",
       "</style>\n",
       "<table border=\"1\" class=\"dataframe\">\n",
       "  <thead>\n",
       "    <tr style=\"text-align: right;\">\n",
       "      <th></th>\n",
       "      <th>Unnamed: 0</th>\n",
       "      <th>TV</th>\n",
       "      <th>Radio</th>\n",
       "      <th>Newspaper</th>\n",
       "      <th>Sales</th>\n",
       "    </tr>\n",
       "  </thead>\n",
       "  <tbody>\n",
       "    <tr>\n",
       "      <th>count</th>\n",
       "      <td>200.000000</td>\n",
       "      <td>200.000000</td>\n",
       "      <td>200.000000</td>\n",
       "      <td>200.000000</td>\n",
       "      <td>200.000000</td>\n",
       "    </tr>\n",
       "    <tr>\n",
       "      <th>mean</th>\n",
       "      <td>100.500000</td>\n",
       "      <td>147.042500</td>\n",
       "      <td>23.264000</td>\n",
       "      <td>30.554000</td>\n",
       "      <td>14.022500</td>\n",
       "    </tr>\n",
       "    <tr>\n",
       "      <th>std</th>\n",
       "      <td>57.879185</td>\n",
       "      <td>85.854236</td>\n",
       "      <td>14.846809</td>\n",
       "      <td>21.778621</td>\n",
       "      <td>5.217457</td>\n",
       "    </tr>\n",
       "    <tr>\n",
       "      <th>min</th>\n",
       "      <td>1.000000</td>\n",
       "      <td>0.700000</td>\n",
       "      <td>0.000000</td>\n",
       "      <td>0.300000</td>\n",
       "      <td>1.600000</td>\n",
       "    </tr>\n",
       "    <tr>\n",
       "      <th>25%</th>\n",
       "      <td>50.750000</td>\n",
       "      <td>74.375000</td>\n",
       "      <td>9.975000</td>\n",
       "      <td>12.750000</td>\n",
       "      <td>10.375000</td>\n",
       "    </tr>\n",
       "    <tr>\n",
       "      <th>50%</th>\n",
       "      <td>100.500000</td>\n",
       "      <td>149.750000</td>\n",
       "      <td>22.900000</td>\n",
       "      <td>25.750000</td>\n",
       "      <td>12.900000</td>\n",
       "    </tr>\n",
       "    <tr>\n",
       "      <th>75%</th>\n",
       "      <td>150.250000</td>\n",
       "      <td>218.825000</td>\n",
       "      <td>36.525000</td>\n",
       "      <td>45.100000</td>\n",
       "      <td>17.400000</td>\n",
       "    </tr>\n",
       "    <tr>\n",
       "      <th>max</th>\n",
       "      <td>200.000000</td>\n",
       "      <td>296.400000</td>\n",
       "      <td>49.600000</td>\n",
       "      <td>114.000000</td>\n",
       "      <td>27.000000</td>\n",
       "    </tr>\n",
       "  </tbody>\n",
       "</table>\n",
       "</div>"
      ],
      "text/plain": [
       "       Unnamed: 0          TV       Radio   Newspaper       Sales\n",
       "count  200.000000  200.000000  200.000000  200.000000  200.000000\n",
       "mean   100.500000  147.042500   23.264000   30.554000   14.022500\n",
       "std     57.879185   85.854236   14.846809   21.778621    5.217457\n",
       "min      1.000000    0.700000    0.000000    0.300000    1.600000\n",
       "25%     50.750000   74.375000    9.975000   12.750000   10.375000\n",
       "50%    100.500000  149.750000   22.900000   25.750000   12.900000\n",
       "75%    150.250000  218.825000   36.525000   45.100000   17.400000\n",
       "max    200.000000  296.400000   49.600000  114.000000   27.000000"
      ]
     },
     "execution_count": 9,
     "metadata": {},
     "output_type": "execute_result"
    }
   ],
   "source": [
    "df.describe()"
   ]
  },
  {
   "cell_type": "code",
   "execution_count": 10,
   "id": "eb026e38",
   "metadata": {
    "execution": {
     "iopub.execute_input": "2024-07-19T11:49:19.148088Z",
     "iopub.status.busy": "2024-07-19T11:49:19.147672Z",
     "iopub.status.idle": "2024-07-19T11:49:19.157289Z",
     "shell.execute_reply": "2024-07-19T11:49:19.156113Z"
    },
    "papermill": {
     "duration": 0.022071,
     "end_time": "2024-07-19T11:49:19.159915",
     "exception": false,
     "start_time": "2024-07-19T11:49:19.137844",
     "status": "completed"
    },
    "tags": []
   },
   "outputs": [
    {
     "data": {
      "text/plain": [
       "Unnamed: 0    0\n",
       "TV            0\n",
       "Radio         0\n",
       "Newspaper     0\n",
       "Sales         0\n",
       "dtype: int64"
      ]
     },
     "execution_count": 10,
     "metadata": {},
     "output_type": "execute_result"
    }
   ],
   "source": [
    "df.isna().sum()"
   ]
  },
  {
   "cell_type": "code",
   "execution_count": 11,
   "id": "153a71d5",
   "metadata": {
    "execution": {
     "iopub.execute_input": "2024-07-19T11:49:19.179736Z",
     "iopub.status.busy": "2024-07-19T11:49:19.178908Z",
     "iopub.status.idle": "2024-07-19T11:49:19.187636Z",
     "shell.execute_reply": "2024-07-19T11:49:19.186560Z"
    },
    "papermill": {
     "duration": 0.021311,
     "end_time": "2024-07-19T11:49:19.190037",
     "exception": false,
     "start_time": "2024-07-19T11:49:19.168726",
     "status": "completed"
    },
    "tags": []
   },
   "outputs": [
    {
     "data": {
      "text/plain": [
       "0"
      ]
     },
     "execution_count": 11,
     "metadata": {},
     "output_type": "execute_result"
    }
   ],
   "source": [
    "df.duplicated().sum()"
   ]
  },
  {
   "cell_type": "code",
   "execution_count": 12,
   "id": "c0d4556d",
   "metadata": {
    "execution": {
     "iopub.execute_input": "2024-07-19T11:49:19.210016Z",
     "iopub.status.busy": "2024-07-19T11:49:19.209599Z",
     "iopub.status.idle": "2024-07-19T11:49:19.224585Z",
     "shell.execute_reply": "2024-07-19T11:49:19.223342Z"
    },
    "papermill": {
     "duration": 0.027653,
     "end_time": "2024-07-19T11:49:19.226963",
     "exception": false,
     "start_time": "2024-07-19T11:49:19.199310",
     "status": "completed"
    },
    "tags": []
   },
   "outputs": [
    {
     "data": {
      "text/html": [
       "<div>\n",
       "<style scoped>\n",
       "    .dataframe tbody tr th:only-of-type {\n",
       "        vertical-align: middle;\n",
       "    }\n",
       "\n",
       "    .dataframe tbody tr th {\n",
       "        vertical-align: top;\n",
       "    }\n",
       "\n",
       "    .dataframe thead th {\n",
       "        text-align: right;\n",
       "    }\n",
       "</style>\n",
       "<table border=\"1\" class=\"dataframe\">\n",
       "  <thead>\n",
       "    <tr style=\"text-align: right;\">\n",
       "      <th></th>\n",
       "      <th>Unnamed: 0</th>\n",
       "      <th>TV</th>\n",
       "      <th>Radio</th>\n",
       "      <th>Newspaper</th>\n",
       "      <th>Sales</th>\n",
       "    </tr>\n",
       "  </thead>\n",
       "  <tbody>\n",
       "  </tbody>\n",
       "</table>\n",
       "</div>"
      ],
      "text/plain": [
       "Empty DataFrame\n",
       "Columns: [Unnamed: 0, TV, Radio, Newspaper, Sales]\n",
       "Index: []"
      ]
     },
     "execution_count": 12,
     "metadata": {},
     "output_type": "execute_result"
    }
   ],
   "source": [
    "df[df.duplicated(subset=df.columns,keep=False)]"
   ]
  },
  {
   "cell_type": "code",
   "execution_count": 13,
   "id": "3ba9c111",
   "metadata": {
    "execution": {
     "iopub.execute_input": "2024-07-19T11:49:19.246628Z",
     "iopub.status.busy": "2024-07-19T11:49:19.246179Z",
     "iopub.status.idle": "2024-07-19T11:49:19.262445Z",
     "shell.execute_reply": "2024-07-19T11:49:19.261304Z"
    },
    "papermill": {
     "duration": 0.029017,
     "end_time": "2024-07-19T11:49:19.264961",
     "exception": false,
     "start_time": "2024-07-19T11:49:19.235944",
     "status": "completed"
    },
    "tags": []
   },
   "outputs": [
    {
     "data": {
      "text/html": [
       "<div>\n",
       "<style scoped>\n",
       "    .dataframe tbody tr th:only-of-type {\n",
       "        vertical-align: middle;\n",
       "    }\n",
       "\n",
       "    .dataframe tbody tr th {\n",
       "        vertical-align: top;\n",
       "    }\n",
       "\n",
       "    .dataframe thead th {\n",
       "        text-align: right;\n",
       "    }\n",
       "</style>\n",
       "<table border=\"1\" class=\"dataframe\">\n",
       "  <thead>\n",
       "    <tr style=\"text-align: right;\">\n",
       "      <th></th>\n",
       "      <th>Unnamed: 0</th>\n",
       "      <th>TV</th>\n",
       "      <th>Radio</th>\n",
       "      <th>Newspaper</th>\n",
       "      <th>Sales</th>\n",
       "    </tr>\n",
       "  </thead>\n",
       "  <tbody>\n",
       "    <tr>\n",
       "      <th>Unnamed: 0</th>\n",
       "      <td>1.000000</td>\n",
       "      <td>0.017715</td>\n",
       "      <td>-0.110680</td>\n",
       "      <td>-0.154944</td>\n",
       "      <td>-0.051616</td>\n",
       "    </tr>\n",
       "    <tr>\n",
       "      <th>TV</th>\n",
       "      <td>0.017715</td>\n",
       "      <td>1.000000</td>\n",
       "      <td>0.054809</td>\n",
       "      <td>0.056648</td>\n",
       "      <td>0.782224</td>\n",
       "    </tr>\n",
       "    <tr>\n",
       "      <th>Radio</th>\n",
       "      <td>-0.110680</td>\n",
       "      <td>0.054809</td>\n",
       "      <td>1.000000</td>\n",
       "      <td>0.354104</td>\n",
       "      <td>0.576223</td>\n",
       "    </tr>\n",
       "    <tr>\n",
       "      <th>Newspaper</th>\n",
       "      <td>-0.154944</td>\n",
       "      <td>0.056648</td>\n",
       "      <td>0.354104</td>\n",
       "      <td>1.000000</td>\n",
       "      <td>0.228299</td>\n",
       "    </tr>\n",
       "    <tr>\n",
       "      <th>Sales</th>\n",
       "      <td>-0.051616</td>\n",
       "      <td>0.782224</td>\n",
       "      <td>0.576223</td>\n",
       "      <td>0.228299</td>\n",
       "      <td>1.000000</td>\n",
       "    </tr>\n",
       "  </tbody>\n",
       "</table>\n",
       "</div>"
      ],
      "text/plain": [
       "            Unnamed: 0        TV     Radio  Newspaper     Sales\n",
       "Unnamed: 0    1.000000  0.017715 -0.110680  -0.154944 -0.051616\n",
       "TV            0.017715  1.000000  0.054809   0.056648  0.782224\n",
       "Radio        -0.110680  0.054809  1.000000   0.354104  0.576223\n",
       "Newspaper    -0.154944  0.056648  0.354104   1.000000  0.228299\n",
       "Sales        -0.051616  0.782224  0.576223   0.228299  1.000000"
      ]
     },
     "execution_count": 13,
     "metadata": {},
     "output_type": "execute_result"
    }
   ],
   "source": [
    "df.corr()"
   ]
  },
  {
   "cell_type": "code",
   "execution_count": 14,
   "id": "0ff6ee1d",
   "metadata": {
    "execution": {
     "iopub.execute_input": "2024-07-19T11:49:19.286774Z",
     "iopub.status.busy": "2024-07-19T11:49:19.286285Z",
     "iopub.status.idle": "2024-07-19T11:49:19.738191Z",
     "shell.execute_reply": "2024-07-19T11:49:19.736949Z"
    },
    "papermill": {
     "duration": 0.465745,
     "end_time": "2024-07-19T11:49:19.740848",
     "exception": false,
     "start_time": "2024-07-19T11:49:19.275103",
     "status": "completed"
    },
    "tags": []
   },
   "outputs": [
    {
     "data": {
      "text/plain": [
       "<Axes: >"
      ]
     },
     "execution_count": 14,
     "metadata": {},
     "output_type": "execute_result"
    },
    {
     "data": {
      "image/png": "[encoded data removed]",
      "text/plain": [
       "<Figure size 640x480 with 2 Axes>"
      ]
     },
     "metadata": {},
     "output_type": "display_data"
    }
   ],
   "source": [
    "sns.heatmap(df.corr(),annot=True)"
   ]
  },
  {
   "cell_type": "code",
   "execution_count": 15,
   "id": "823484eb",
   "metadata": {
    "execution": {
     "iopub.execute_input": "2024-07-19T11:49:19.763477Z",
     "iopub.status.busy": "2024-07-19T11:49:19.763048Z",
     "iopub.status.idle": "2024-07-19T11:49:19.775197Z",
     "shell.execute_reply": "2024-07-19T11:49:19.774027Z"
    },
    "papermill": {
     "duration": 0.026239,
     "end_time": "2024-07-19T11:49:19.777706",
     "exception": false,
     "start_time": "2024-07-19T11:49:19.751467",
     "status": "completed"
    },
    "tags": []
   },
   "outputs": [
    {
     "data": {
      "text/html": [
       "<div>\n",
       "<style scoped>\n",
       "    .dataframe tbody tr th:only-of-type {\n",
       "        vertical-align: middle;\n",
       "    }\n",
       "\n",
       "    .dataframe tbody tr th {\n",
       "        vertical-align: top;\n",
       "    }\n",
       "\n",
       "    .dataframe thead th {\n",
       "        text-align: right;\n",
       "    }\n",
       "</style>\n",
       "<table border=\"1\" class=\"dataframe\">\n",
       "  <thead>\n",
       "    <tr style=\"text-align: right;\">\n",
       "      <th></th>\n",
       "      <th>Sales</th>\n",
       "    </tr>\n",
       "  </thead>\n",
       "  <tbody>\n",
       "    <tr>\n",
       "      <th>Unnamed: 0</th>\n",
       "      <td>-0.051616</td>\n",
       "    </tr>\n",
       "    <tr>\n",
       "      <th>TV</th>\n",
       "      <td>0.782224</td>\n",
       "    </tr>\n",
       "    <tr>\n",
       "      <th>Radio</th>\n",
       "      <td>0.576223</td>\n",
       "    </tr>\n",
       "    <tr>\n",
       "      <th>Newspaper</th>\n",
       "      <td>0.228299</td>\n",
       "    </tr>\n",
       "    <tr>\n",
       "      <th>Sales</th>\n",
       "      <td>1.000000</td>\n",
       "    </tr>\n",
       "  </tbody>\n",
       "</table>\n",
       "</div>"
      ],
      "text/plain": [
       "               Sales\n",
       "Unnamed: 0 -0.051616\n",
       "TV          0.782224\n",
       "Radio       0.576223\n",
       "Newspaper   0.228299\n",
       "Sales       1.000000"
      ]
     },
     "execution_count": 15,
     "metadata": {},
     "output_type": "execute_result"
    }
   ],
   "source": [
    "df_corr_sale=df.corr()['Sales'].to_frame()\n",
    "df_corr_sale"
   ]
  },
  {
   "cell_type": "code",
   "execution_count": 16,
   "id": "a9d95e20",
   "metadata": {
    "execution": {
     "iopub.execute_input": "2024-07-19T11:49:19.800865Z",
     "iopub.status.busy": "2024-07-19T11:49:19.800462Z",
     "iopub.status.idle": "2024-07-19T11:49:20.075292Z",
     "shell.execute_reply": "2024-07-19T11:49:20.074065Z"
    },
    "papermill": {
     "duration": 0.289166,
     "end_time": "2024-07-19T11:49:20.078041",
     "exception": false,
     "start_time": "2024-07-19T11:49:19.788875",
     "status": "completed"
    },
    "tags": []
   },
   "outputs": [
    {
     "data": {
      "text/plain": [
       "<Axes: ylabel='Sales'>"
      ]
     },
     "execution_count": 16,
     "metadata": {},
     "output_type": "execute_result"
    },
    {
     "data": {
      "image/png": "[encoded data removed]",
      "text/plain": [
       "<Figure size 640x480 with 1 Axes>"
      ]
     },
     "metadata": {},
     "output_type": "display_data"
    }
   ],
   "source": [
    "sns.barplot(data=df_corr_sale,x=df_corr_sale.index,y='Sales')"
   ]
  },
  {
   "cell_type": "markdown",
   "id": "16da2714",
   "metadata": {
    "papermill": {
     "duration": 0.010377,
     "end_time": "2024-07-19T11:49:20.099242",
     "exception": false,
     "start_time": "2024-07-19T11:49:20.088865",
     "status": "completed"
    },
    "tags": []
   },
   "source": [
    "Predictive Analytics"
   ]
  },
  {
   "cell_type": "code",
   "execution_count": 17,
   "id": "943296a2",
   "metadata": {
    "execution": {
     "iopub.execute_input": "2024-07-19T11:49:20.122817Z",
     "iopub.status.busy": "2024-07-19T11:49:20.122087Z",
     "iopub.status.idle": "2024-07-19T11:49:20.129965Z",
     "shell.execute_reply": "2024-07-19T11:49:20.128789Z"
    },
    "papermill": {
     "duration": 0.022302,
     "end_time": "2024-07-19T11:49:20.132342",
     "exception": false,
     "start_time": "2024-07-19T11:49:20.110040",
     "status": "completed"
    },
    "tags": []
   },
   "outputs": [
    {
     "data": {
      "text/plain": [
       "array([100,  50,  50])"
      ]
     },
     "execution_count": 17,
     "metadata": {},
     "output_type": "execute_result"
    }
   ],
   "source": [
    "array=np.array([100,50,50])\n",
    "array"
   ]
  },
  {
   "cell_type": "code",
   "execution_count": 18,
   "id": "326b33d2",
   "metadata": {
    "execution": {
     "iopub.execute_input": "2024-07-19T11:49:20.156655Z",
     "iopub.status.busy": "2024-07-19T11:49:20.156186Z",
     "iopub.status.idle": "2024-07-19T11:49:20.163834Z",
     "shell.execute_reply": "2024-07-19T11:49:20.162632Z"
    },
    "papermill": {
     "duration": 0.022889,
     "end_time": "2024-07-19T11:49:20.166381",
     "exception": false,
     "start_time": "2024-07-19T11:49:20.143492",
     "status": "completed"
    },
    "tags": []
   },
   "outputs": [
    {
     "data": {
      "text/plain": [
       "array([[100,  50,  50]])"
      ]
     },
     "execution_count": 18,
     "metadata": {},
     "output_type": "execute_result"
    }
   ],
   "source": [
    "new_array=array.reshape(1,-1)\n",
    "new_array"
   ]
  },
  {
   "cell_type": "markdown",
   "id": "a2e66217",
   "metadata": {
    "papermill": {
     "duration": 0.010713,
     "end_time": "2024-07-19T11:49:20.188364",
     "exception": false,
     "start_time": "2024-07-19T11:49:20.177651",
     "status": "completed"
    },
    "tags": []
   },
   "source": [
    "**Thank You and Regards "
   ]
  },
  {
   "cell_type": "markdown",
   "id": "84e30003",
   "metadata": {
    "papermill": {
     "duration": 0.010637,
     "end_time": "2024-07-19T11:49:20.210091",
     "exception": false,
     "start_time": "2024-07-19T11:49:20.199454",
     "status": "completed"
    },
    "tags": []
   },
   "source": [
    "****Vamshi Onteddula "
   ]
  }
 ],
 "metadata": {
  "kaggle": {
   "accelerator": "none",
   "dataSources": [
    {
     "datasetId": 582088,
     "sourceId": 1052144,
     "sourceType": "datasetVersion"
    }
   ],
   "dockerImageVersionId": 30746,
   "isGpuEnabled": false,
   "isInternetEnabled": false,
   "language": "python",
   "sourceType": "notebook"
  },
  "kernelspec": {
   "display_name": "Python 3",
   "language": "python",
   "name": "python3"
  },
  "language_info": {
   "codemirror_mode": {
    "name": "ipython",
    "version": 3
   },
   "file_extension": ".py",
   "mimetype": "text/x-python",
   "name": "python",
   "nbconvert_exporter": "python",
   "pygments_lexer": "ipython3",
   "version": "3.10.13"
  },
  "papermill": {
   "default_parameters": {},
   "duration": 8.411052,
   "end_time": "2024-07-19T11:49:20.843894",
   "environment_variables": {},
   "exception": null,
   "input_path": "__notebook__.ipynb",
   "output_path": "__notebook__.ipynb",
   "parameters": {},
   "start_time": "2024-07-19T11:49:12.432842",
   "version": "2.5.0"
  }
 },
 "nbformat": 4,
 "nbformat_minor": 5
}
